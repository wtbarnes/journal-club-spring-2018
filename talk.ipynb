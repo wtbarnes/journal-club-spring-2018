{
 "cells": [
  {
   "cell_type": "markdown",
   "metadata": {
    "slideshow": {
     "slide_type": "slide"
    }
   },
   "source": [
    "### Rice P&A Journal Club\n",
    "# [\"Detection of nanoflare-heated plasma in the solar corona by the FOXSI-2 sounding rocket\"](https://www.nature.com/articles/s41550-017-0269-z)\n",
    "## Shin-nosuke Ishikawa, Lindsay Glesener, Säm Krucker, Steven Christe, Juan Camilo Buitrago-Casas, Noriyuki Narukage and Juliana Vievering\n",
    "### Will Barnes, 13 April 2018"
   ]
  },
  {
   "cell_type": "code",
   "execution_count": 1,
   "metadata": {
    "slideshow": {
     "slide_type": "skip"
    }
   },
   "outputs": [],
   "source": [
    "import numpy as np\n",
    "import matplotlib.pyplot as plt\n",
    "import astropy.units as u\n",
    "import sunpy.map\n",
    "\n",
    "%matplotlib inline"
   ]
  },
  {
   "cell_type": "markdown",
   "metadata": {
    "slideshow": {
     "slide_type": "slide"
    }
   },
   "source": [
    "# Outline\n",
    "* The Coronal Heating Problem\n",
    "* Nanoflares\n",
    "* FOXSI\n",
    "* Observations of Hot Plasma"
   ]
  },
  {
   "cell_type": "markdown",
   "metadata": {
    "slideshow": {
     "slide_type": "slide"
    }
   },
   "source": [
    "# The Coronal Heating Problem"
   ]
  },
  {
   "cell_type": "markdown",
   "metadata": {},
   "source": [
    "* Intro coronal heating\n",
    "* Nice picture of EUV sun versus visual sun\n",
    "* Movie of flare\n",
    "* Don't care about flares\n",
    "* Care about non-flaring ARs"
   ]
  },
  {
   "cell_type": "markdown",
   "metadata": {
    "slideshow": {
     "slide_type": "slide"
    }
   },
   "source": [
    "# Nanoflares"
   ]
  },
  {
   "cell_type": "markdown",
   "metadata": {},
   "source": [
    "* Brief explanation of nanoflares\n",
    "* A few cartoons\n",
    "* Explain (briefly) why these are so hard to detect"
   ]
  },
  {
   "cell_type": "markdown",
   "metadata": {
    "slideshow": {
     "slide_type": "slide"
    }
   },
   "source": [
    "# Focusing Optics X-ray Solar Imager (FOXSI)"
   ]
  },
  {
   "cell_type": "markdown",
   "metadata": {},
   "source": [
    "* Discuss the instrument\n",
    "  * sounding rocket\n",
    "  * Paper presents results from second flight \n",
    "  * FOXSI-3 will fly again in August of this year\n",
    "* Advantages of HXR versus EUV"
   ]
  },
  {
   "cell_type": "markdown",
   "metadata": {},
   "source": [
    "<p float=\"center\">\n",
    "<img src=\"img/foxsi-1-logo.png\" width=\"300\">\n",
    "<img src=\"img/foxsi-2-logo.png\" width=\"300\">\n",
    "<img src=\"img/foxsi-3-logo.png\" width=\"300\">\n",
    "</p>"
   ]
  },
  {
   "cell_type": "markdown",
   "metadata": {
    "slideshow": {
     "slide_type": "slide"
    }
   },
   "source": [
    "# Observations of Hot Plasma"
   ]
  },
  {
   "cell_type": "markdown",
   "metadata": {},
   "source": [
    "* Show figures from paper\n",
    "* Talk about the results"
   ]
  },
  {
   "cell_type": "markdown",
   "metadata": {
    "slideshow": {
     "slide_type": "slide"
    }
   },
   "source": [
    "# Aside: The Differential Emission Measure ($\\mathrm{DEM}(T)$)"
   ]
  },
  {
   "cell_type": "markdown",
   "metadata": {},
   "source": [
    "* Illustration of loop\n",
    "* EBTEL example movie showing heating input, temperature, density, and DEM\n",
    "  * Constant heating\n",
    "  * single pulse"
   ]
  },
  {
   "cell_type": "markdown",
   "metadata": {
    "slideshow": {
     "slide_type": "slide"
    }
   },
   "source": [
    "# Observations of Hot Plasma"
   ]
  },
  {
   "cell_type": "markdown",
   "metadata": {},
   "source": [
    "* Give a bit more context"
   ]
  },
  {
   "cell_type": "markdown",
   "metadata": {
    "slideshow": {
     "slide_type": "slide"
    }
   },
   "source": [
    "# TL;DR\n",
    "* The Sun is *hot*\n",
    "* Faint hot plasma is hard to observe\n",
    "* Faint hot plasma is an indicator of many small bursts of energy heating the corona\n",
    "* Hard X-rays are good for measuring faint hot plasma\n",
    "* FOXSI measured faint hot plasma\n",
    "* Many small bursts of energy heating the corona???"
   ]
  },
  {
   "cell_type": "code",
   "execution_count": null,
   "metadata": {},
   "outputs": [],
   "source": []
  }
 ],
 "metadata": {
  "kernelspec": {
   "display_name": "Python [conda env:synthesizar]",
   "language": "python",
   "name": "conda-env-synthesizar-py"
  },
  "language_info": {
   "codemirror_mode": {
    "name": "ipython",
    "version": 3
   },
   "file_extension": ".py",
   "mimetype": "text/x-python",
   "name": "python",
   "nbconvert_exporter": "python",
   "pygments_lexer": "ipython3",
   "version": "3.6.4"
  }
 },
 "nbformat": 4,
 "nbformat_minor": 2
}
